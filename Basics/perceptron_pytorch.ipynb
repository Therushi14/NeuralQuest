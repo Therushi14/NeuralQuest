{
  "nbformat": 4,
  "nbformat_minor": 0,
  "metadata": {
    "colab": {
      "provenance": []
    },
    "kernelspec": {
      "name": "python3",
      "display_name": "Python 3"
    },
    "language_info": {
      "name": "python"
    }
  },
  "cells": [
    {
      "cell_type": "code",
      "execution_count": 1,
      "metadata": {
        "id": "rpeBuWUpiz2i"
      },
      "outputs": [],
      "source": [
        "import numpy as np\n",
        "import matplotlib.pyplot as plt\n",
        "import torch"
      ]
    },
    {
      "cell_type": "markdown",
      "source": [
        "###Prepare Toy dataset"
      ],
      "metadata": {
        "id": "4tXYyPhdi_47"
      }
    },
    {
      "cell_type": "code",
      "metadata": {
        "colab": {
          "base_uri": "https://localhost:8080/"
        },
        "id": "259b9e11",
        "outputId": "5c8056a3-c574-4c7a-aba1-50be9ccf6b76"
      },
      "source": [
        "from sklearn.datasets import make_classification\n",
        "\n",
        "# Generate a toy dataset\n",
        "X, y = make_classification(n_samples=100, n_features=2, n_informative=2, n_redundant=0, random_state=123)\n",
        "\n",
        "print('Class label counts:', np.bincount(y))\n",
        "print('X.shape:', X.shape)\n",
        "print('y.shape:', y.shape)\n",
        "\n",
        "# Shuffling & train/test split\n",
        "shuffle_idx = np.arange(y.shape[0])\n",
        "shuffle_rng = np.random.RandomState(123)\n",
        "shuffle_rng.shuffle(shuffle_idx)\n",
        "X, y = X[shuffle_idx], y[shuffle_idx]\n",
        "\n",
        "X_train, X_test = X[shuffle_idx[:70]], X[shuffle_idx[70:]]\n",
        "y_train, y_test = y[shuffle_idx[:70]], y[shuffle_idx[70:]]\n",
        "\n",
        "# Normalize (mean zero, unit variance)\n",
        "mu, sigma = X_train.mean(axis=0), X_train.std(axis=0)\n",
        "X_train = (X_train - mu) / sigma\n",
        "X_test = (X_test - mu) / sigma"
      ],
      "execution_count": 2,
      "outputs": [
        {
          "output_type": "stream",
          "name": "stdout",
          "text": [
            "Class label counts: [48 52]\n",
            "X.shape: (100, 2)\n",
            "y.shape: (100,)\n"
          ]
        }
      ]
    },
    {
      "cell_type": "code",
      "source": [
        "plt.scatter(X_train[y_train==0,0] , X_train[y_train==0,1],label='class 0',marker = 'o')\n",
        "plt.scatter(X_train[y_train==1,0], X_train[y_train==1,1], label='class 1',marker='s')\n",
        "plt.xlabel('feature 1')\n",
        "plt.ylabel('feature 2')\n",
        "plt.legend()\n",
        "plt.show()"
      ],
      "metadata": {
        "colab": {
          "base_uri": "https://localhost:8080/",
          "height": 449
        },
        "id": "cs6KLahClghL",
        "outputId": "ff676944-892b-42e6-d6f1-829c7dca8146"
      },
      "execution_count": 3,
      "outputs": [
        {
          "output_type": "display_data",
          "data": {
            "text/plain": [
              "<Figure size 640x480 with 1 Axes>"
            ],
            "image/png": "[encoded data removed]"
          },
          "metadata": {}
        }
      ]
    },
    {
      "cell_type": "markdown",
      "source": [
        "###Perceptron Model"
      ],
      "metadata": {
        "id": "kHm0THromdT7"
      }
    },
    {
      "cell_type": "code",
      "source": [
        "def custom_where(cond,x_1,x_2):\n",
        "  # Cast the boolean condition to float before performing arithmetic\n",
        "  cond_float = cond.float()\n",
        "  return (cond_float * x_1) + ((1 - cond_float) * x_2)\n",
        "\n",
        "class Perceptron():\n",
        "  def __init__(self,num_features):\n",
        "    self.num_features = num_features\n",
        "    self.weights = torch.zeros(num_features,\n",
        "                               1,dtype=torch.float32)\n",
        "    self.bias = torch.zeros(1,dtype=torch.float32)\n",
        "\n",
        "  def forward(self,x):\n",
        "    linear = torch.add(torch.mm(x,self.weights),self.bias)\n",
        "    predictions = custom_where(linear>0.,1,0).float()\n",
        "    return predictions\n",
        "\n",
        "  def backward(self,x,y):\n",
        "    predictions = self.forward(x)\n",
        "    errors = y - predictions\n",
        "    return errors\n",
        "\n",
        "  def train(self,x,y,epochs):\n",
        "    for e in range(epochs):\n",
        "\n",
        "      for i in range(y.size()[0]):\n",
        "        errors = self.backward(x[i].view(1,self.num_features),y[i]).view(-1)\n",
        "        self.weights += (errors * x[i]).view(self.num_features,1)\n",
        "        self.bias += errors\n",
        "\n",
        "  def evaluate(self,x,y):\n",
        "    predictions = self.forward(x).view(-1)\n",
        "    accuracy = torch.sum(predictions == y).float() / y.size()[0]\n",
        "    return accuracy"
      ],
      "metadata": {
        "id": "Zrur9N-ImqD6"
      },
      "execution_count": 15,
      "outputs": []
    },
    {
      "cell_type": "markdown",
      "source": [
        "###Training Perceptron"
      ],
      "metadata": {
        "id": "eHxShB7boyfy"
      }
    },
    {
      "cell_type": "code",
      "source": [
        "ppn = Perceptron(num_features=2)\n",
        "\n",
        "X_train_tensor = torch.tensor(X_train,dtype=torch.float32)\n",
        "y_train_tensor = torch.tensor(y_train,dtype=torch.float32)\n",
        "\n",
        "ppn.train(X_train_tensor,y_train_tensor,epochs=5)\n",
        "\n",
        "print('Model parameters: ')\n",
        "print(f\"Weights: {ppn.weights}\")\n",
        "print(f\"Bias: {ppn.bias}\")"
      ],
      "metadata": {
        "colab": {
          "base_uri": "https://localhost:8080/"
        },
        "id": "syDaHQxroUZN",
        "outputId": "21740043-3c2b-46fc-ad23-8548e02ec234"
      },
      "execution_count": 16,
      "outputs": [
        {
          "output_type": "stream",
          "name": "stdout",
          "text": [
            "Model parameters: \n",
            "Weights: tensor([[3.2248],\n",
            "        [1.1868]])\n",
            "Bias: tensor([0.])\n"
          ]
        }
      ]
    },
    {
      "cell_type": "code",
      "source": [
        "X_test_tensor = torch.tensor(X_test,dtype=torch.float32)\n",
        "y_test_tensor = torch.tensor(y_test,dtype=torch.float32)\n",
        "\n",
        "test_acc = ppn.evaluate(X_test_tensor,y_test_tensor)\n",
        "print(f\"Test accuracy: {test_acc}\")\n",
        ""
      ],
      "metadata": {
        "colab": {
          "base_uri": "https://localhost:8080/"
        },
        "id": "91_p82vvpcYz",
        "outputId": "625e8b94-afed-4217-8a09-3089f3037039"
      },
      "execution_count": 17,
      "outputs": [
        {
          "output_type": "stream",
          "name": "stdout",
          "text": [
            "Test accuracy: 0.9333333373069763\n"
          ]
        }
      ]
    },
    {
      "cell_type": "code",
      "source": [],
      "metadata": {
        "id": "bPIqGvgBtoMQ"
      },
      "execution_count": null,
      "outputs": []
    }
  ]
}