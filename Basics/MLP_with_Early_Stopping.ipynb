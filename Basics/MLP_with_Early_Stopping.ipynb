{
  "nbformat": 4,
  "nbformat_minor": 0,
  "metadata": {
    "colab": {
      "provenance": [],
      "gpuType": "T4"
    },
    "kernelspec": {
      "name": "python3",
      "display_name": "Python 3"
    },
    "language_info": {
      "name": "python"
    },
    "accelerator": "GPU"
  },
  "cells": [
    {
      "cell_type": "code",
      "execution_count": 1,
      "metadata": {
        "id": "8jbmVBbqHwZJ"
      },
      "outputs": [],
      "source": [
        "import torch\n",
        "import torch.nn as nn\n",
        "import torch.optim as optim\n",
        "from torch.utils.data import DataLoader\n",
        "from torchvision import datasets, transforms\n"
      ]
    },
    {
      "cell_type": "code",
      "source": [
        "device = torch.device(\"cuda\" if torch.cuda.is_available() else \"cpu\")\n",
        "print(f\"Using device: {device}\")"
      ],
      "metadata": {
        "colab": {
          "base_uri": "https://localhost:8080/"
        },
        "id": "BPFpJhSwH1YI",
        "outputId": "fd497e41-c096-489d-b0ef-439c977a4f3a"
      },
      "execution_count": 2,
      "outputs": [
        {
          "output_type": "stream",
          "name": "stdout",
          "text": [
            "Using device: cuda\n"
          ]
        }
      ]
    },
    {
      "cell_type": "code",
      "source": [
        "batch_size = 128\n",
        "epochs = 50\n",
        "learning_rate = 0.001\n",
        "dropout_prob = 0.5\n",
        "patience = 5"
      ],
      "metadata": {
        "id": "iPz9UPA7IAnU"
      },
      "execution_count": 3,
      "outputs": []
    },
    {
      "cell_type": "code",
      "source": [
        "transform = transforms.Compose([\n",
        "    transforms.ToTensor(),\n",
        "    transforms.Normalize((0.5,), (0.5,))\n",
        "])"
      ],
      "metadata": {
        "id": "Vs9I2mZsIMr7"
      },
      "execution_count": 4,
      "outputs": []
    },
    {
      "cell_type": "code",
      "source": [
        "train_dataset = datasets.MNIST(root='./data', train=True, download=True, transform=transform)\n",
        "test_dataset = datasets.MNIST(root='./data', train=False, download=True, transform=transform)\n",
        "\n",
        "train_loader = DataLoader(train_dataset, batch_size=batch_size, shuffle=True)\n",
        "test_loader = DataLoader(test_dataset, batch_size=batch_size)"
      ],
      "metadata": {
        "colab": {
          "base_uri": "https://localhost:8080/"
        },
        "id": "RGwhY7WqIXk6",
        "outputId": "b5f70062-f5a9-4def-de0a-316211c0cd5a"
      },
      "execution_count": 5,
      "outputs": [
        {
          "output_type": "stream",
          "name": "stderr",
          "text": [
            "100%|██████████| 9.91M/9.91M [00:01<00:00, 5.10MB/s]\n",
            "100%|██████████| 28.9k/28.9k [00:00<00:00, 134kB/s]\n",
            "100%|██████████| 1.65M/1.65M [00:01<00:00, 1.27MB/s]\n",
            "100%|██████████| 4.54k/4.54k [00:00<00:00, 6.03MB/s]\n"
          ]
        }
      ]
    },
    {
      "cell_type": "code",
      "source": [
        "class MLP(nn.Module):\n",
        "  def __init__(self):\n",
        "    super(MLP,self).__init__()\n",
        "    self.model = nn.Sequential(\n",
        "        nn.Flatten(),\n",
        "        nn.Linear(28*28,512),\n",
        "        nn.ReLU(),\n",
        "        nn.Dropout(dropout_prob),\n",
        "        nn.Linear(512,256),\n",
        "        nn.ReLU(),\n",
        "        nn.Dropout(dropout_prob),\n",
        "        nn.Linear(256,10)\n",
        "    )\n",
        "\n",
        "  def forward(self,x):\n",
        "    return self.model(x)\n",
        "\n",
        "model = MLP().to(device)"
      ],
      "metadata": {
        "id": "iqHvlIZ8IZZD"
      },
      "execution_count": 6,
      "outputs": []
    },
    {
      "cell_type": "code",
      "source": [
        "criterion  = nn.CrossEntropyLoss()\n",
        "optimizer = optim.Adam(model.parameters(),lr = learning_rate)"
      ],
      "metadata": {
        "id": "IbKwqkXGJCZM"
      },
      "execution_count": 7,
      "outputs": []
    },
    {
      "cell_type": "code",
      "source": [
        "best_val_loss = float('inf')\n",
        "epochs_no_imporve = 0"
      ],
      "metadata": {
        "id": "tYS5jFzyJK7t"
      },
      "execution_count": 8,
      "outputs": []
    },
    {
      "cell_type": "code",
      "source": [
        "for epoch in range(epochs):\n",
        "    model.train()\n",
        "    running_loss = 0.0\n",
        "\n",
        "    for inputs, targets in train_loader:\n",
        "        inputs, targets = inputs.to(device), targets.to(device)\n",
        "\n",
        "        outputs = model(inputs)\n",
        "        loss = criterion(outputs, targets)\n",
        "\n",
        "        optimizer.zero_grad()\n",
        "        loss.backward()\n",
        "        optimizer.step()\n",
        "\n",
        "        running_loss += loss.item()\n",
        "\n",
        "\n",
        "    model.eval()\n",
        "    val_loss = 0.0\n",
        "    with torch.no_grad():\n",
        "        for inputs, targets in test_loader:\n",
        "            inputs, targets = inputs.to(device), targets.to(device)\n",
        "            outputs = model(inputs)\n",
        "            loss = criterion(outputs, targets)\n",
        "            val_loss += loss.item()\n",
        "\n",
        "    print(f\"Epoch {epoch+1}/{epochs} | Train Loss: {running_loss:.4f} | Val Loss: {val_loss:.4f}\")\n",
        "\n",
        "\n",
        "    if val_loss < best_val_loss:\n",
        "        best_val_loss = val_loss\n",
        "        epochs_no_improve = 0\n",
        "    else:\n",
        "        epochs_no_improve += 1\n",
        "\n",
        "    if epochs_no_improve >= patience:\n",
        "        print(f\"\\n Early stopping at epoch {epoch+1} — no improvement for {patience} epochs.\")\n",
        "        break"
      ],
      "metadata": {
        "colab": {
          "base_uri": "https://localhost:8080/"
        },
        "id": "peIHIJZ6JQ1S",
        "outputId": "b4681a34-32f0-4195-a7fd-e7b0117a1705"
      },
      "execution_count": 10,
      "outputs": [
        {
          "output_type": "stream",
          "name": "stdout",
          "text": [
            "Epoch 1/50 | Train Loss: 99.7988 | Val Loss: 9.0921\n",
            "Epoch 2/50 | Train Loss: 94.8836 | Val Loss: 8.6187\n",
            "Epoch 3/50 | Train Loss: 88.7592 | Val Loss: 8.2523\n",
            "Epoch 4/50 | Train Loss: 84.6559 | Val Loss: 7.1568\n",
            "Epoch 5/50 | Train Loss: 82.3125 | Val Loss: 8.2518\n",
            "Epoch 6/50 | Train Loss: 77.6233 | Val Loss: 7.4128\n",
            "Epoch 7/50 | Train Loss: 73.8530 | Val Loss: 7.7225\n",
            "Epoch 8/50 | Train Loss: 75.6226 | Val Loss: 6.6923\n",
            "Epoch 9/50 | Train Loss: 71.6139 | Val Loss: 6.6765\n",
            "Epoch 10/50 | Train Loss: 70.4500 | Val Loss: 6.6638\n",
            "Epoch 11/50 | Train Loss: 68.6212 | Val Loss: 6.6581\n",
            "Epoch 12/50 | Train Loss: 66.6655 | Val Loss: 6.8949\n",
            "Epoch 13/50 | Train Loss: 64.6412 | Val Loss: 6.1691\n",
            "Epoch 14/50 | Train Loss: 64.5130 | Val Loss: 5.8755\n",
            "Epoch 15/50 | Train Loss: 62.1938 | Val Loss: 6.7062\n",
            "Epoch 16/50 | Train Loss: 62.7493 | Val Loss: 6.1211\n",
            "Epoch 17/50 | Train Loss: 60.9950 | Val Loss: 6.0153\n",
            "Epoch 18/50 | Train Loss: 59.0796 | Val Loss: 5.8997\n",
            "Epoch 19/50 | Train Loss: 59.7197 | Val Loss: 6.3219\n",
            "\n",
            " Early stopping at epoch 19 — no improvement for 5 epochs.\n"
          ]
        }
      ]
    },
    {
      "cell_type": "code",
      "source": [
        "model.eval()\n",
        "correct = 0\n",
        "total = 0\n",
        "with torch.no_grad():\n",
        "  for inputs ,targets in test_loader:\n",
        "    inputs , targets = inputs.to(device),targets.to(device)\n",
        "    outputs = model(inputs)\n",
        "    _ , predicted = torch.max(outputs,1)\n",
        "    total += targets.size(0)\n",
        "    correct += (predicted == targets).sum().item()\n",
        "\n",
        "accuracy = correct / total * 100\n",
        "print(f\"Fianl MNIST Test Accuracy: {accuracy: .2f}%\")"
      ],
      "metadata": {
        "colab": {
          "base_uri": "https://localhost:8080/"
        },
        "id": "oi3fQVq6J52c",
        "outputId": "6b0153c9-f8dc-4590-eaae-df1baf9baf16"
      },
      "execution_count": 11,
      "outputs": [
        {
          "output_type": "stream",
          "name": "stdout",
          "text": [
            "Fianl MNIST Test Accuracy:  97.48%\n"
          ]
        }
      ]
    },
    {
      "cell_type": "code",
      "source": [],
      "metadata": {
        "id": "frHVbEydLVXM"
      },
      "execution_count": null,
      "outputs": []
    }
  ]
}