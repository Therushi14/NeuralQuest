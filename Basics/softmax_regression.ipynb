{
  "nbformat": 4,
  "nbformat_minor": 0,
  "metadata": {
    "colab": {
      "provenance": []
    },
    "kernelspec": {
      "name": "python3",
      "display_name": "Python 3"
    },
    "language_info": {
      "name": "python"
    }
  },
  "cells": [
    {
      "cell_type": "code",
      "execution_count": 1,
      "metadata": {
        "id": "XhMBi3u5BcDs"
      },
      "outputs": [],
      "source": [
        "import torch\n",
        "from torchvision import datasets\n",
        "from torchvision import transforms\n",
        "from torch.utils.data import DataLoader\n",
        "import torch.nn.functional as F"
      ]
    },
    {
      "cell_type": "code",
      "source": [
        "device = torch.device(\"cuda:0\" if torch.cuda.is_available() else \"cpu\")"
      ],
      "metadata": {
        "id": "cJpUU7EQGkDH"
      },
      "execution_count": 13,
      "outputs": []
    },
    {
      "cell_type": "markdown",
      "source": [
        "###Dataset"
      ],
      "metadata": {
        "id": "eQ82F7uHBvXP"
      }
    },
    {
      "cell_type": "code",
      "source": [
        "random_seed = 123\n",
        "learning_rate = 0.1\n",
        "num_epochs = 10\n",
        "batch_size = 256\n",
        "\n",
        "num_features = 784\n",
        "num_classes = 10\n",
        "\n",
        "train_dataset = datasets.MNIST(root='data',\n",
        "                               train=True,\n",
        "                               transform=transforms.ToTensor(),\n",
        "                               download=True)\n",
        "\n",
        "test_datasets = datasets.MNIST(root='data',\n",
        "                               train=False,\n",
        "                               transform=transforms.ToTensor(),\n",
        "                               download=True)\n",
        "\n",
        "train_loader = DataLoader(dataset=train_dataset,\n",
        "                          batch_size=batch_size,\n",
        "                          shuffle=True)\n",
        "\n",
        "test_loader = DataLoader(dataset=test_datasets,\n",
        "                         batch_size=batch_size,\n",
        "                         shuffle=False)\n",
        "\n",
        "for images,labels in train_loader:\n",
        "  print('Image batch dimension: ', images.shape)\n",
        "  print('Image label dimensions: ', labels.shape)\n",
        "  break"
      ],
      "metadata": {
        "colab": {
          "base_uri": "https://localhost:8080/"
        },
        "id": "FYUTXq_4Bzym",
        "outputId": "4f26c028-f916-4a8f-9118-eb6b6b2b565c"
      },
      "execution_count": 3,
      "outputs": [
        {
          "output_type": "stream",
          "name": "stderr",
          "text": [
            "100%|██████████| 9.91M/9.91M [00:00<00:00, 34.3MB/s]\n",
            "100%|██████████| 28.9k/28.9k [00:00<00:00, 1.11MB/s]\n",
            "100%|██████████| 1.65M/1.65M [00:00<00:00, 8.32MB/s]\n",
            "100%|██████████| 4.54k/4.54k [00:00<00:00, 4.87MB/s]"
          ]
        },
        {
          "output_type": "stream",
          "name": "stdout",
          "text": [
            "Image batch dimension:  torch.Size([256, 1, 28, 28])\n",
            "Image label dimensions:  torch.Size([256])\n"
          ]
        },
        {
          "output_type": "stream",
          "name": "stderr",
          "text": [
            "\n"
          ]
        }
      ]
    },
    {
      "cell_type": "markdown",
      "source": [
        "###Model"
      ],
      "metadata": {
        "id": "iJbaJt5oD5UW"
      }
    },
    {
      "cell_type": "code",
      "source": [
        "class SoftmaxRegression(torch.nn.Module):\n",
        "\n",
        "  def __init__(self,num_features,num_classes):\n",
        "    super(SoftmaxRegression,self).__init__()\n",
        "    self.linear = torch.nn.Linear(num_features,num_classes)\n",
        "\n",
        "  def forward(self,x):\n",
        "    logits = self.linear(x)\n",
        "    probas = F.softmax(logits,dim=1)\n",
        "    return logits,probas\n",
        "\n",
        "model = SoftmaxRegression(num_features = num_features,num_classes=num_classes)\n",
        "\n",
        "model.to(device)\n",
        "\n",
        "optimizer = torch.optim.SGD(model.parameters(),lr = learning_rate)\n",
        "\n"
      ],
      "metadata": {
        "id": "tQ__HHRYDKqF"
      },
      "execution_count": 14,
      "outputs": []
    },
    {
      "cell_type": "code",
      "source": [
        "torch.manual_seed(random_seed)\n",
        "\n",
        "def compute_accuracy(model,data_loader):\n",
        "  correct_pred, num_examples = 0,0\n",
        "\n",
        "  for features,targets in data_loader:\n",
        "    features = features.view(-1,28*28).to(device)\n",
        "    targets = targets.to(device)\n",
        "    logits,probas = model(features)\n",
        "    _,predicted_labels = torch.max(probas,1)\n",
        "    num_examples += targets.size(0)\n",
        "    correct_pred += (predicted_labels == targets).sum()\n",
        "\n",
        "  return correct_pred.float()/num_examples*100\n",
        "\n",
        "for epoch in range(num_epochs):\n",
        "  for batch_idx, (features,targets) in enumerate(train_loader):\n",
        "\n",
        "    features = features.view(-1,28*28).to(device)\n",
        "    targets = targets.to(device)\n",
        "\n",
        "    logits,probas = model(features)\n",
        "\n",
        "    cost = F.cross_entropy(logits,targets)\n",
        "    optimizer.zero_grad()\n",
        "    cost.backward()\n",
        "\n",
        "    optimizer.step()\n",
        "\n",
        "    if not batch_idx % 50:\n",
        "            print ('Epoch: %03d/%03d | Batch %03d/%03d | Cost: %.4f'\n",
        "                   %(epoch+1, num_epochs, batch_idx,\n",
        "                     len(train_dataset)//batch_size, cost))\n",
        "\n",
        "  with torch.set_grad_enabled(False):\n",
        "        print('Epoch: %03d/%03d training accuracy: %.2f%%' % (\n",
        "              epoch+1, num_epochs,\n",
        "              compute_accuracy(model, train_loader)))"
      ],
      "metadata": {
        "colab": {
          "base_uri": "https://localhost:8080/"
        },
        "id": "4OVe2OqfEtkN",
        "outputId": "9676d1ad-17ea-44e2-c46b-fe6e61315b50"
      },
      "execution_count": 15,
      "outputs": [
        {
          "output_type": "stream",
          "name": "stdout",
          "text": [
            "Epoch: 001/010 | Batch 000/234 | Cost: 2.3151\n",
            "Epoch: 001/010 | Batch 050/234 | Cost: 0.7719\n",
            "Epoch: 001/010 | Batch 100/234 | Cost: 0.5332\n",
            "Epoch: 001/010 | Batch 150/234 | Cost: 0.5600\n",
            "Epoch: 001/010 | Batch 200/234 | Cost: 0.5498\n",
            "Epoch: 001/010 training accuracy: 88.03%\n",
            "Epoch: 002/010 | Batch 000/234 | Cost: 0.4817\n",
            "Epoch: 002/010 | Batch 050/234 | Cost: 0.3706\n",
            "Epoch: 002/010 | Batch 100/234 | Cost: 0.4558\n",
            "Epoch: 002/010 | Batch 150/234 | Cost: 0.3754\n",
            "Epoch: 002/010 | Batch 200/234 | Cost: 0.4780\n",
            "Epoch: 002/010 training accuracy: 89.22%\n",
            "Epoch: 003/010 | Batch 000/234 | Cost: 0.4066\n",
            "Epoch: 003/010 | Batch 050/234 | Cost: 0.4468\n",
            "Epoch: 003/010 | Batch 100/234 | Cost: 0.3790\n",
            "Epoch: 003/010 | Batch 150/234 | Cost: 0.3870\n",
            "Epoch: 003/010 | Batch 200/234 | Cost: 0.3011\n",
            "Epoch: 003/010 training accuracy: 89.96%\n",
            "Epoch: 004/010 | Batch 000/234 | Cost: 0.4274\n",
            "Epoch: 004/010 | Batch 050/234 | Cost: 0.3931\n",
            "Epoch: 004/010 | Batch 100/234 | Cost: 0.3769\n",
            "Epoch: 004/010 | Batch 150/234 | Cost: 0.3922\n",
            "Epoch: 004/010 | Batch 200/234 | Cost: 0.3137\n",
            "Epoch: 004/010 training accuracy: 90.30%\n",
            "Epoch: 005/010 | Batch 000/234 | Cost: 0.3104\n",
            "Epoch: 005/010 | Batch 050/234 | Cost: 0.3801\n",
            "Epoch: 005/010 | Batch 100/234 | Cost: 0.3617\n",
            "Epoch: 005/010 | Batch 150/234 | Cost: 0.3137\n",
            "Epoch: 005/010 | Batch 200/234 | Cost: 0.3225\n",
            "Epoch: 005/010 training accuracy: 90.60%\n",
            "Epoch: 006/010 | Batch 000/234 | Cost: 0.3204\n",
            "Epoch: 006/010 | Batch 050/234 | Cost: 0.4192\n",
            "Epoch: 006/010 | Batch 100/234 | Cost: 0.3138\n",
            "Epoch: 006/010 | Batch 150/234 | Cost: 0.2674\n",
            "Epoch: 006/010 | Batch 200/234 | Cost: 0.3200\n",
            "Epoch: 006/010 training accuracy: 90.85%\n",
            "Epoch: 007/010 | Batch 000/234 | Cost: 0.3577\n",
            "Epoch: 007/010 | Batch 050/234 | Cost: 0.3015\n",
            "Epoch: 007/010 | Batch 100/234 | Cost: 0.3014\n",
            "Epoch: 007/010 | Batch 150/234 | Cost: 0.3456\n",
            "Epoch: 007/010 | Batch 200/234 | Cost: 0.3110\n",
            "Epoch: 007/010 training accuracy: 91.00%\n",
            "Epoch: 008/010 | Batch 000/234 | Cost: 0.2992\n",
            "Epoch: 008/010 | Batch 050/234 | Cost: 0.3911\n",
            "Epoch: 008/010 | Batch 100/234 | Cost: 0.2510\n",
            "Epoch: 008/010 | Batch 150/234 | Cost: 0.3090\n",
            "Epoch: 008/010 | Batch 200/234 | Cost: 0.3804\n",
            "Epoch: 008/010 training accuracy: 91.22%\n",
            "Epoch: 009/010 | Batch 000/234 | Cost: 0.2339\n",
            "Epoch: 009/010 | Batch 050/234 | Cost: 0.2323\n",
            "Epoch: 009/010 | Batch 100/234 | Cost: 0.2364\n",
            "Epoch: 009/010 | Batch 150/234 | Cost: 0.2612\n",
            "Epoch: 009/010 | Batch 200/234 | Cost: 0.3541\n",
            "Epoch: 009/010 training accuracy: 91.32%\n",
            "Epoch: 010/010 | Batch 000/234 | Cost: 0.3321\n",
            "Epoch: 010/010 | Batch 050/234 | Cost: 0.3480\n",
            "Epoch: 010/010 | Batch 100/234 | Cost: 0.3192\n",
            "Epoch: 010/010 | Batch 150/234 | Cost: 0.3232\n",
            "Epoch: 010/010 | Batch 200/234 | Cost: 0.2563\n",
            "Epoch: 010/010 training accuracy: 91.46%\n"
          ]
        }
      ]
    },
    {
      "cell_type": "code",
      "source": [
        "accuracy = compute_accuracy(model,test_loader)\n",
        "print(f'Test accuracy: {accuracy:.2f}%')"
      ],
      "metadata": {
        "colab": {
          "base_uri": "https://localhost:8080/"
        },
        "id": "r8EzbEUXIp6F",
        "outputId": "f77adfa9-275f-4bfa-ad44-9aee2226a06f"
      },
      "execution_count": 16,
      "outputs": [
        {
          "output_type": "stream",
          "name": "stdout",
          "text": [
            "Test accuracy: 91.65%\n"
          ]
        }
      ]
    },
    {
      "cell_type": "code",
      "source": [],
      "metadata": {
        "id": "BUIPrg-jJWrV"
      },
      "execution_count": null,
      "outputs": []
    }
  ]
}