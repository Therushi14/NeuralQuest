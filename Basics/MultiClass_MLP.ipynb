{
  "nbformat": 4,
  "nbformat_minor": 0,
  "metadata": {
    "colab": {
      "provenance": [],
      "gpuType": "T4"
    },
    "kernelspec": {
      "name": "python3",
      "display_name": "Python 3"
    },
    "language_info": {
      "name": "python"
    },
    "accelerator": "GPU"
  },
  "cells": [
    {
      "cell_type": "code",
      "source": [
        "import torch\n",
        "from torch import nn\n",
        "import torch.optim as optim\n",
        "from torch.utils.data import Dataset,DataLoader\n",
        "\n",
        "from sklearn.datasets import load_iris\n",
        "from sklearn.model_selection import train_test_split\n",
        "from sklearn.preprocessing import StandardScaler\n",
        "\n",
        "import numpy as np\n",
        "import pandas as pd\n",
        "import matplotlib.pyplot as plt\n",
        "\n"
      ],
      "metadata": {
        "id": "vjyE3skIknY-"
      },
      "execution_count": 5,
      "outputs": []
    },
    {
      "cell_type": "markdown",
      "source": [
        "###Dataset"
      ],
      "metadata": {
        "id": "lbRkbg1ck1wl"
      }
    },
    {
      "cell_type": "code",
      "source": [
        "iris = load_iris()\n",
        "X = iris.data\n",
        "y = iris.target\n"
      ],
      "metadata": {
        "id": "nCGM9r4T6IN6"
      },
      "execution_count": 6,
      "outputs": []
    },
    {
      "cell_type": "code",
      "source": [
        "X.shape"
      ],
      "metadata": {
        "colab": {
          "base_uri": "https://localhost:8080/"
        },
        "id": "g7x1T3Io6IK6",
        "outputId": "dc210857-0765-4716-c562-d60ac32cacc6"
      },
      "execution_count": 7,
      "outputs": [
        {
          "output_type": "execute_result",
          "data": {
            "text/plain": [
              "(150, 4)"
            ]
          },
          "metadata": {},
          "execution_count": 7
        }
      ]
    },
    {
      "cell_type": "code",
      "source": [
        "y.shape"
      ],
      "metadata": {
        "colab": {
          "base_uri": "https://localhost:8080/"
        },
        "id": "duqjcqET6IIJ",
        "outputId": "a832c88b-588a-47ce-c3f1-c4bd2827647a"
      },
      "execution_count": 9,
      "outputs": [
        {
          "output_type": "execute_result",
          "data": {
            "text/plain": [
              "(150,)"
            ]
          },
          "metadata": {},
          "execution_count": 9
        }
      ]
    },
    {
      "cell_type": "code",
      "source": [
        "scaler = StandardScaler()\n",
        "X = scaler.fit_transform(X)\n",
        "\n",
        "X = X.astype(np.float32)\n",
        "y = y.astype(np.int64)\n",
        "\n",
        "X_train,X_test,y_train,y_test = train_test_split(X,y,test_size=0.2,random_state=42)"
      ],
      "metadata": {
        "id": "GVatxJtE6IFZ"
      },
      "execution_count": 10,
      "outputs": []
    },
    {
      "cell_type": "code",
      "source": [
        "class IrisDataset(Dataset):\n",
        "  def __init__(self,X,y):\n",
        "    self.X = torch.tensor(X)\n",
        "    self.y = torch.tensor(y)\n",
        "\n",
        "  def __len__(self):\n",
        "    return len(self.X)\n",
        "\n",
        "  def __getitem__(self,idx):\n",
        "    return self.X[idx],self.y[idx]"
      ],
      "metadata": {
        "id": "DZX9ZLFH6ICp"
      },
      "execution_count": 19,
      "outputs": []
    },
    {
      "cell_type": "code",
      "source": [
        "train_dataset = IrisDataset(X_train,y_train)\n",
        "test_dataset = IrisDataset(X_test,y_test)\n",
        "\n",
        "train_loader = DataLoader(train_dataset,batch_size=16,shuffle=True)\n",
        "test_loader = DataLoader(test_dataset,batch_size=16)"
      ],
      "metadata": {
        "id": "MP4dO96C69-C"
      },
      "execution_count": 20,
      "outputs": []
    },
    {
      "cell_type": "markdown",
      "source": [
        "###MLP Model"
      ],
      "metadata": {
        "id": "eJ0YGhh87PU5"
      }
    },
    {
      "cell_type": "code",
      "source": [
        "class MLP(nn.Module):\n",
        "  def __init__(self,input_dim,num_classes):\n",
        "    super(MLP,self).__init__()\n",
        "    self.model = nn.Sequential(\n",
        "        nn.Linear(input_dim,32),\n",
        "        nn.ReLU(),\n",
        "        nn.Linear(32,16),\n",
        "        nn.ReLU(),\n",
        "        nn.Linear(16,num_classes)\n",
        "    )\n",
        "\n",
        "  def forward(self,x):\n",
        "    return self.model(x)\n",
        "\n",
        "model = MLP(input_dim=4,num_classes=3)"
      ],
      "metadata": {
        "id": "TF-JO1fk7U6M"
      },
      "execution_count": 24,
      "outputs": []
    },
    {
      "cell_type": "code",
      "source": [
        "criterion = nn.CrossEntropyLoss()\n",
        "optimizer = optim.Adam(model.parameters(),lr=0.01)"
      ],
      "metadata": {
        "id": "X0LJZiGn7U3m"
      },
      "execution_count": 25,
      "outputs": []
    },
    {
      "cell_type": "markdown",
      "source": [
        "###Training Loop"
      ],
      "metadata": {
        "id": "8x7bQfjo7U0c"
      }
    },
    {
      "cell_type": "code",
      "source": [
        "epochs = 100\n",
        "for epoch in range(epochs):\n",
        "  model.train()\n",
        "  running_loss = 0.0\n",
        "  for inputs,targets in train_loader:\n",
        "    outputs = model(inputs)\n",
        "    loss = criterion(outputs,targets)\n",
        "\n",
        "    optimizer.zero_grad()\n",
        "    loss.backward()\n",
        "    optimizer.step()\n",
        "\n",
        "    running_loss += loss.item()\n",
        "\n",
        "  if (epoch+1) % 10 == 0:\n",
        "    print(f\"Epoch: {epoch+1}/{epochs}, Loss: {running_loss: .4f}\")"
      ],
      "metadata": {
        "colab": {
          "base_uri": "https://localhost:8080/"
        },
        "id": "iHH73EhL7Uxp",
        "outputId": "7a8b0a72-6589-4792-fd9b-81f7506ab15e"
      },
      "execution_count": 26,
      "outputs": [
        {
          "output_type": "stream",
          "name": "stdout",
          "text": [
            "Epoch: 10/100, Loss:  0.5513\n",
            "Epoch: 20/100, Loss:  0.3788\n",
            "Epoch: 30/100, Loss:  0.4924\n",
            "Epoch: 40/100, Loss:  0.3182\n",
            "Epoch: 50/100, Loss:  0.3110\n",
            "Epoch: 60/100, Loss:  0.2268\n",
            "Epoch: 70/100, Loss:  0.2753\n",
            "Epoch: 80/100, Loss:  0.1514\n",
            "Epoch: 90/100, Loss:  0.1204\n",
            "Epoch: 100/100, Loss:  0.0480\n"
          ]
        }
      ]
    },
    {
      "cell_type": "markdown",
      "source": [
        "###Evaluation"
      ],
      "metadata": {
        "id": "x7XSsCNN7Uuy"
      }
    },
    {
      "cell_type": "code",
      "source": [
        "model.eval()\n",
        "correct = 0\n",
        "total = 0\n",
        "with torch.no_grad():\n",
        "  for inputs,targets in test_loader:\n",
        "    outputs = model(inputs)\n",
        "    _, predicted  = torch.max(outputs,1)\n",
        "    total += targets.size(0)\n",
        "    correct += (predicted == targets).sum().item()\n",
        "\n",
        "accuracy = correct / total * 100\n",
        "print(f\"Accuracy : {accuracy}\")"
      ],
      "metadata": {
        "colab": {
          "base_uri": "https://localhost:8080/"
        },
        "id": "POAWD0ej7UpL",
        "outputId": "e61f467c-de34-4649-9e8d-1de003c90f2c"
      },
      "execution_count": 28,
      "outputs": [
        {
          "output_type": "stream",
          "name": "stdout",
          "text": [
            "Accuracy : 100.0\n"
          ]
        }
      ]
    },
    {
      "cell_type": "code",
      "source": [],
      "metadata": {
        "id": "cVY4nIWz9l9B"
      },
      "execution_count": null,
      "outputs": []
    }
  ]
}