{
  "nbformat": 4,
  "nbformat_minor": 0,
  "metadata": {
    "colab": {
      "provenance": []
    },
    "kernelspec": {
      "name": "python3",
      "display_name": "Python 3"
    },
    "language_info": {
      "name": "python"
    }
  },
  "cells": [
    {
      "cell_type": "code",
      "execution_count": 7,
      "metadata": {
        "id": "ajzMUgPODzEC"
      },
      "outputs": [],
      "source": [
        "import torch\n",
        "import torch.nn as nn\n",
        "import torch.optim as optim\n",
        "from torch.utils.data import Dataset,DataLoader"
      ]
    },
    {
      "cell_type": "markdown",
      "source": [
        "###Create Dataset"
      ],
      "metadata": {
        "id": "ypt3oZwtD-Yl"
      }
    },
    {
      "cell_type": "code",
      "source": [
        "import numpy as np\n",
        "\n",
        "np.random.seed(0)\n",
        "X = np.random.rand(100,1).astype(np.float32)\n",
        "y = 3*X + 2 +0.1*np.random.randn(100,1).astype(np.float32)"
      ],
      "metadata": {
        "id": "qYRPuerpELT0"
      },
      "execution_count": 8,
      "outputs": []
    },
    {
      "cell_type": "code",
      "source": [
        "class RegressionDataset(Dataset):\n",
        "  def __init__(self,X,y):\n",
        "    self.X = torch.tensor(X)\n",
        "    self.y = torch.tensor(y)\n",
        "\n",
        "  def __len__(self):\n",
        "    return len(self.X)\n",
        "\n",
        "  def __getitem__(self, index) :\n",
        "    return self.X[index],self.y[index]\n",
        "\n",
        "dataset = RegressionDataset(X,y)\n",
        "dataloader = DataLoader(dataset,batch_size=10,shuffle=True)\n"
      ],
      "metadata": {
        "id": "XzA76iOUEcS-"
      },
      "execution_count": 9,
      "outputs": []
    },
    {
      "cell_type": "markdown",
      "source": [
        "###Define MLP Model"
      ],
      "metadata": {
        "id": "HUu88HO6Fkpc"
      }
    },
    {
      "cell_type": "code",
      "source": [
        "class MLP(nn.Module):\n",
        "  def __init__(self):\n",
        "    super(MLP,self).__init__()\n",
        "    self.model = nn.Sequential(\n",
        "        nn.Linear(1,10),\n",
        "        nn.ReLU(),\n",
        "        nn.Linear(10,5),\n",
        "        nn.ReLU(),\n",
        "        nn.Linear(5,1)\n",
        "    )\n",
        "\n",
        "  def forward(self,x):\n",
        "    return self.model(x)\n",
        "\n",
        "model = MLP()\n",
        "\n",
        "criterion = nn.MSELoss()\n",
        "\n",
        "optimizer = optim.SGD(model.parameters(),lr = 0.1)\n"
      ],
      "metadata": {
        "id": "ZxPvaGtrFrsU"
      },
      "execution_count": 12,
      "outputs": []
    },
    {
      "cell_type": "markdown",
      "source": [
        "###Training Loop"
      ],
      "metadata": {
        "id": "1TTRZgYNGU6H"
      }
    },
    {
      "cell_type": "code",
      "source": [
        "epochs = 100\n",
        "for epoch in range(epochs):\n",
        "  total_loss = 0\n",
        "  for inputs,targets in dataloader:\n",
        "    outputs = model(inputs)\n",
        "    loss = criterion(outputs,targets)\n",
        "\n",
        "    optimizer.zero_grad()\n",
        "    loss.backward()\n",
        "    optimizer.step()\n",
        "\n",
        "    total_loss +=loss.item()\n",
        "\n",
        "  if (epoch+1)%10 == 0:\n",
        "    print(f\"Epoch [{epoch+1}/{epochs}],Loss: {total_loss:.4f}\")\n",
        ""
      ],
      "metadata": {
        "colab": {
          "base_uri": "https://localhost:8080/"
        },
        "id": "lPudVQ6tGvIM",
        "outputId": "8c4f341e-8cd9-4056-f81e-2261fc5a3d56"
      },
      "execution_count": 13,
      "outputs": [
        {
          "output_type": "stream",
          "name": "stdout",
          "text": [
            "Epoch [10/100],Loss: 0.4488\n",
            "Epoch [20/100],Loss: 0.2874\n",
            "Epoch [30/100],Loss: 0.1104\n",
            "Epoch [40/100],Loss: 0.3886\n",
            "Epoch [50/100],Loss: 0.1250\n",
            "Epoch [60/100],Loss: 0.2892\n",
            "Epoch [70/100],Loss: 0.1656\n",
            "Epoch [80/100],Loss: 0.1775\n",
            "Epoch [90/100],Loss: 0.1536\n",
            "Epoch [100/100],Loss: 0.1168\n"
          ]
        }
      ]
    },
    {
      "cell_type": "markdown",
      "source": [
        "###Testing Model"
      ],
      "metadata": {
        "id": "ljbXDp0EHdiG"
      }
    },
    {
      "cell_type": "code",
      "source": [
        "with torch.no_grad():\n",
        "  test_input = torch.tensor([[0.5]])\n",
        "  prediction = model(test_input)\n",
        "  print(f\"\\n Prediction for input 0.5: {prediction.item():.4f}\")"
      ],
      "metadata": {
        "colab": {
          "base_uri": "https://localhost:8080/"
        },
        "id": "evKS-AS7INqd",
        "outputId": "20e61126-6848-4fd8-c36c-c5e568ea045d"
      },
      "execution_count": 14,
      "outputs": [
        {
          "output_type": "stream",
          "name": "stdout",
          "text": [
            "\n",
            " Prediction for input 0.5: 3.6019\n"
          ]
        }
      ]
    },
    {
      "cell_type": "code",
      "source": [],
      "metadata": {
        "id": "FRGZCGJwI0zu"
      },
      "execution_count": null,
      "outputs": []
    }
  ]
}