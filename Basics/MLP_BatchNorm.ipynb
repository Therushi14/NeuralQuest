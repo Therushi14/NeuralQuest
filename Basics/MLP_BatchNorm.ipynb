{
  "nbformat": 4,
  "nbformat_minor": 0,
  "metadata": {
    "colab": {
      "provenance": [],
      "gpuType": "T4"
    },
    "kernelspec": {
      "name": "python3",
      "display_name": "Python 3"
    },
    "language_info": {
      "name": "python"
    },
    "accelerator": "GPU"
  },
  "cells": [
    {
      "cell_type": "code",
      "execution_count": 2,
      "metadata": {
        "id": "Ai5rASWRG5Vn"
      },
      "outputs": [],
      "source": [
        "import torch\n",
        "import torch.nn as nn\n",
        "import torch.optim as optim\n",
        "from torch.utils.data import DataLoader\n",
        "from torchvision import datasets, transforms"
      ]
    },
    {
      "cell_type": "code",
      "source": [
        "device = torch.device(\"cuda\" if torch.cuda.is_available() else \"cpu\")\n",
        "print(f\"Using device:{device}\")"
      ],
      "metadata": {
        "colab": {
          "base_uri": "https://localhost:8080/"
        },
        "id": "y6KHg0MFHNWF",
        "outputId": "99513c2a-3248-4b79-a3a2-5433f54d994d"
      },
      "execution_count": 4,
      "outputs": [
        {
          "output_type": "stream",
          "name": "stdout",
          "text": [
            "Using device:cuda\n"
          ]
        }
      ]
    },
    {
      "cell_type": "code",
      "source": [
        "batch_size = 128\n",
        "epochs = 50\n",
        "learning_rate = 0.001\n",
        "dropout_prob = 0.5\n",
        "patience = 5"
      ],
      "metadata": {
        "id": "o_R0rFbvHg7j"
      },
      "execution_count": 5,
      "outputs": []
    },
    {
      "cell_type": "code",
      "source": [
        "transform = transforms.Compose([transforms.ToTensor(),\n",
        "                                transforms.Normalize((0.5,),(0.5,))])"
      ],
      "metadata": {
        "id": "xPp5TADlHpLE"
      },
      "execution_count": 6,
      "outputs": []
    },
    {
      "cell_type": "code",
      "source": [
        "train_dataset = datasets.MNIST(root='./data',train=True,download=True,transform=transform)\n",
        "test_dataset = datasets.MNIST(root='./data',train=False,download=True,transform=transform)"
      ],
      "metadata": {
        "colab": {
          "base_uri": "https://localhost:8080/"
        },
        "id": "tLzqIcnNH1Jr",
        "outputId": "3329e1df-0983-47b4-c578-22919085be4a"
      },
      "execution_count": 7,
      "outputs": [
        {
          "output_type": "stream",
          "name": "stderr",
          "text": [
            "100%|██████████| 9.91M/9.91M [00:00<00:00, 17.9MB/s]\n",
            "100%|██████████| 28.9k/28.9k [00:00<00:00, 494kB/s]\n",
            "100%|██████████| 1.65M/1.65M [00:00<00:00, 4.50MB/s]\n",
            "100%|██████████| 4.54k/4.54k [00:00<00:00, 7.25MB/s]\n"
          ]
        }
      ]
    },
    {
      "cell_type": "code",
      "source": [
        "train_loader = DataLoader(train_dataset,batch_size=batch_size,shuffle=True)\n",
        "test_loader = DataLoader(test_dataset,batch_size=batch_size)"
      ],
      "metadata": {
        "id": "pa9x36SjN6bJ"
      },
      "execution_count": 8,
      "outputs": []
    },
    {
      "cell_type": "code",
      "source": [
        "class MLP_BN(nn.Module):\n",
        "  def __init__(self):\n",
        "    super(MLP_BN,self).__init__()\n",
        "    self.net = nn.Sequential(\n",
        "        nn.Flatten(),\n",
        "\n",
        "        nn.Linear(28*28,512),\n",
        "        nn.BatchNorm1d(512),\n",
        "        nn.ReLU(),\n",
        "        nn.Dropout(dropout_prob),\n",
        "\n",
        "        nn.Linear(512,256),\n",
        "        nn.BatchNorm1d(256),\n",
        "        nn.ReLU(),\n",
        "        nn.Dropout(dropout_prob),\n",
        "\n",
        "        nn.Linear(256,10)\n",
        "    )\n",
        "\n",
        "  def forward(self,x):\n",
        "    return self.net(x)\n",
        "\n",
        "model = MLP_BN().to(device)"
      ],
      "metadata": {
        "id": "ae4eRLH_OISX"
      },
      "execution_count": 10,
      "outputs": []
    },
    {
      "cell_type": "code",
      "source": [
        "criterion = nn.CrossEntropyLoss()\n",
        "optimizer = optim.Adam(model.parameters(),lr = learning_rate)\n"
      ],
      "metadata": {
        "id": "6DovdWP_O3ov"
      },
      "execution_count": 11,
      "outputs": []
    },
    {
      "cell_type": "code",
      "source": [
        "train_losses =[]\n",
        "val_losses = []\n",
        "\n",
        "best_val_loss = float('inf')\n",
        "epochs_on_imporve = 0\n",
        "\n",
        "for epoch in range(epochs):\n",
        "  model.train()\n",
        "  running_loss = 0.0\n",
        "\n",
        "  for inputs,targets in train_loader:\n",
        "    inputs,targets = inputs.to(device), targets.to(device)\n",
        "\n",
        "    outputs = model(inputs)\n",
        "    loss = criterion(outputs,targets)\n",
        "\n",
        "    optimizer.zero_grad()\n",
        "    loss.backward()\n",
        "    optimizer.step()\n",
        "\n",
        "    running_loss += loss.item()\n",
        "\n",
        "  model.eval()\n",
        "  val_loss = 0.0\n",
        "  with torch.no_grad():\n",
        "    for inputs,targets in test_loader:\n",
        "      inputs,targets = inputs.to(device),targets.to(device)\n",
        "      outputs = model(inputs)\n",
        "      loss = criterion(outputs,targets)\n",
        "      val_loss += loss.item()\n",
        "\n",
        "\n",
        "  train_losses.append(running_loss)\n",
        "  val_losses.append(val_loss)\n",
        "\n",
        "  print(f\"Epoch {epoch+1}/{epochs}, Train Loss: {running_loss:.4f}, Val Loss: {val_loss:.4f}\")\n",
        "\n",
        "  if val_loss < best_val_loss:\n",
        "    best_val_loss = val_loss\n",
        "    epochs_on_imporve = 0\n",
        "  else:\n",
        "    epochs_on_imporve += 1\n",
        "\n",
        "  if epochs_on_imporve >= patience:\n",
        "    print(f\"Early stopping at epoch {epoch+1}\")\n",
        "    break"
      ],
      "metadata": {
        "colab": {
          "base_uri": "https://localhost:8080/"
        },
        "id": "UwSiaBa4PErX",
        "outputId": "f6337e63-7750-4f18-db47-f740bbe96893"
      },
      "execution_count": 15,
      "outputs": [
        {
          "output_type": "stream",
          "name": "stdout",
          "text": [
            "Epoch 1/50, Train Loss: 79.4745, Val Loss: 7.7082\n",
            "Epoch 2/50, Train Loss: 63.5299, Val Loss: 6.4178\n",
            "Epoch 3/50, Train Loss: 54.9485, Val Loss: 5.8162\n",
            "Epoch 4/50, Train Loss: 48.3393, Val Loss: 5.3017\n",
            "Epoch 5/50, Train Loss: 44.9772, Val Loss: 4.9814\n",
            "Epoch 6/50, Train Loss: 40.2129, Val Loss: 4.7403\n",
            "Epoch 7/50, Train Loss: 38.5120, Val Loss: 4.7965\n",
            "Epoch 8/50, Train Loss: 34.5021, Val Loss: 4.8539\n",
            "Epoch 9/50, Train Loss: 33.6643, Val Loss: 4.2442\n",
            "Epoch 10/50, Train Loss: 31.6829, Val Loss: 4.4216\n",
            "Epoch 11/50, Train Loss: 29.1425, Val Loss: 4.4658\n",
            "Epoch 12/50, Train Loss: 29.6268, Val Loss: 4.4637\n",
            "Epoch 13/50, Train Loss: 27.0946, Val Loss: 4.4087\n",
            "Epoch 14/50, Train Loss: 25.6009, Val Loss: 4.2008\n",
            "Epoch 15/50, Train Loss: 24.6212, Val Loss: 4.1589\n",
            "Epoch 16/50, Train Loss: 23.3636, Val Loss: 4.1793\n",
            "Epoch 17/50, Train Loss: 22.8568, Val Loss: 4.0488\n",
            "Epoch 18/50, Train Loss: 22.2477, Val Loss: 4.2166\n",
            "Epoch 19/50, Train Loss: 22.3400, Val Loss: 4.4334\n",
            "Epoch 20/50, Train Loss: 20.2726, Val Loss: 4.0282\n",
            "Epoch 21/50, Train Loss: 19.2551, Val Loss: 4.3062\n",
            "Epoch 22/50, Train Loss: 19.2216, Val Loss: 4.2269\n",
            "Epoch 23/50, Train Loss: 17.7124, Val Loss: 4.2717\n",
            "Epoch 24/50, Train Loss: 18.0922, Val Loss: 4.1447\n",
            "Epoch 25/50, Train Loss: 17.3835, Val Loss: 4.3719\n",
            "Early stopping at epoch 25\n"
          ]
        }
      ]
    },
    {
      "cell_type": "code",
      "source": [
        "model.eval()\n",
        "correct = 0\n",
        "total = 0\n",
        "with torch.no_grad():\n",
        "  for inputs ,targets in test_loader:\n",
        "    inputs, targets = inputs.to(device),targets.to(device)\n",
        "\n",
        "    outputs = model(inputs)\n",
        "    _, predicted = torch.max(outputs,1)\n",
        "    total += targets.size(0)\n",
        "    correct += (predicted == targets).sum().item()\n",
        "\n",
        "accuracy = correct / total * 100\n",
        "print(f\"Final MNIST Test accuracy {accuracy}%\")"
      ],
      "metadata": {
        "colab": {
          "base_uri": "https://localhost:8080/"
        },
        "id": "Run5noARPIxn",
        "outputId": "57ae3375-0d54-48b9-ef92-65e822e7e6df"
      },
      "execution_count": 16,
      "outputs": [
        {
          "output_type": "stream",
          "name": "stdout",
          "text": [
            "Final MNIST Test accuracy 98.41%\n"
          ]
        }
      ]
    },
    {
      "cell_type": "code",
      "source": [],
      "metadata": {
        "id": "bO3AK8n0TRSu"
      },
      "execution_count": null,
      "outputs": []
    }
  ]
}